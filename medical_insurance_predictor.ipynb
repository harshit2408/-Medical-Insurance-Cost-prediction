{
 "cells": [
  {
   "cell_type": "code",
   "execution_count": null,
   "metadata": {},
   "outputs": [],
   "source": [
    "import numpy as np # linear algebra\n",
    "import pandas as pd # data processing, CSV file I/O (e.g. pd.read_csv)\n",
    "import matplotlib.pyplot as plt\n",
    "import seaborn as sns\n",
    "from sklearn.model_selection import train_test_split\n",
    "from sklearn.linear_model import LinearRegression\n",
    "from sklearn.preprocessing import StandardScaler\n",
    "from sklearn import metrics\n"
   ]
  },
  {
   "cell_type": "markdown",
   "metadata": {},
   "source": [
    "# **Loading The Data**"
   ]
  },
  {
   "cell_type": "code",
   "execution_count": null,
   "metadata": {},
   "outputs": [],
   "source": [
    "df = pd.read_csv('../insurance.csv')"
   ]
  },
  {
   "cell_type": "code",
   "execution_count": null,
   "metadata": {},
   "outputs": [
    {
     "data": {
      "text/html": [
       "<div>\n",
       "<style scoped>\n",
       "    .dataframe tbody tr th:only-of-type {\n",
       "        vertical-align: middle;\n",
       "    }\n",
       "\n",
       "    .dataframe tbody tr th {\n",
       "        vertical-align: top;\n",
       "    }\n",
       "\n",
       "    .dataframe thead th {\n",
       "        text-align: right;\n",
       "    }\n",
       "</style>\n",
       "<table border=\"1\" class=\"dataframe\">\n",
       "  <thead>\n",
       "    <tr style=\"text-align: right;\">\n",
       "      <th></th>\n",
       "      <th>age</th>\n",
       "      <th>sex</th>\n",
       "      <th>bmi</th>\n",
       "      <th>children</th>\n",
       "      <th>smoker</th>\n",
       "      <th>region</th>\n",
       "      <th>charges</th>\n",
       "    </tr>\n",
       "  </thead>\n",
       "  <tbody>\n",
       "    <tr>\n",
       "      <th>0</th>\n",
       "      <td>19</td>\n",
       "      <td>female</td>\n",
       "      <td>27.900</td>\n",
       "      <td>0</td>\n",
       "      <td>yes</td>\n",
       "      <td>southwest</td>\n",
       "      <td>16884.92400</td>\n",
       "    </tr>\n",
       "    <tr>\n",
       "      <th>1</th>\n",
       "      <td>18</td>\n",
       "      <td>male</td>\n",
       "      <td>33.770</td>\n",
       "      <td>1</td>\n",
       "      <td>no</td>\n",
       "      <td>southeast</td>\n",
       "      <td>1725.55230</td>\n",
       "    </tr>\n",
       "    <tr>\n",
       "      <th>2</th>\n",
       "      <td>28</td>\n",
       "      <td>male</td>\n",
       "      <td>33.000</td>\n",
       "      <td>3</td>\n",
       "      <td>no</td>\n",
       "      <td>southeast</td>\n",
       "      <td>4449.46200</td>\n",
       "    </tr>\n",
       "    <tr>\n",
       "      <th>3</th>\n",
       "      <td>33</td>\n",
       "      <td>male</td>\n",
       "      <td>22.705</td>\n",
       "      <td>0</td>\n",
       "      <td>no</td>\n",
       "      <td>northwest</td>\n",
       "      <td>21984.47061</td>\n",
       "    </tr>\n",
       "    <tr>\n",
       "      <th>4</th>\n",
       "      <td>32</td>\n",
       "      <td>male</td>\n",
       "      <td>28.880</td>\n",
       "      <td>0</td>\n",
       "      <td>no</td>\n",
       "      <td>northwest</td>\n",
       "      <td>3866.85520</td>\n",
       "    </tr>\n",
       "  </tbody>\n",
       "</table>\n",
       "</div>"
      ],
      "text/plain": [
       "   age     sex     bmi  children smoker     region      charges\n",
       "0   19  female  27.900         0    yes  southwest  16884.92400\n",
       "1   18    male  33.770         1     no  southeast   1725.55230\n",
       "2   28    male  33.000         3     no  southeast   4449.46200\n",
       "3   33    male  22.705         0     no  northwest  21984.47061\n",
       "4   32    male  28.880         0     no  northwest   3866.85520"
      ]
     },
     "metadata": {},
     "output_type": "display_data"
    }
   ],
   "source": [
    "df.head()"
   ]
  },
  {
   "cell_type": "code",
   "execution_count": null,
   "metadata": {},
   "outputs": [
    {
     "name": "stdout",
     "output_type": "stream",
     "text": [
      "The number of rows in the dataset are:  1338\n",
      "The number of columns which can be used to predict the charges:  6\n"
     ]
    }
   ],
   "source": [
    "#Number of rows and columns in the dataset\n",
    "print(\"The number of rows in the dataset are: \", df.shape[0])\n",
    "print(\"The number of columns which can be used to predict the charges: \", df.shape[1] - 1)"
   ]
  },
  {
   "cell_type": "code",
   "execution_count": null,
   "metadata": {},
   "outputs": [
    {
     "name": "stdout",
     "output_type": "stream",
     "text": [
      "<class 'pandas.core.frame.DataFrame'>\n",
      "RangeIndex: 1338 entries, 0 to 1337\n",
      "Data columns (total 7 columns):\n",
      " #   Column    Non-Null Count  Dtype  \n",
      "---  ------    --------------  -----  \n",
      " 0   age       1338 non-null   int64  \n",
      " 1   sex       1338 non-null   object \n",
      " 2   bmi       1338 non-null   float64\n",
      " 3   children  1338 non-null   int64  \n",
      " 4   smoker    1338 non-null   object \n",
      " 5   region    1338 non-null   object \n",
      " 6   charges   1338 non-null   float64\n",
      "dtypes: float64(2), int64(2), object(3)\n",
      "memory usage: 73.3+ KB\n"
     ]
    }
   ],
   "source": [
    "df.info()"
   ]
  },
  {
   "cell_type": "code",
   "execution_count": null,
   "metadata": {},
   "outputs": [
    {
     "data": {
      "text/plain": [
       "age         0\n",
       "sex         0\n",
       "bmi         0\n",
       "children    0\n",
       "smoker      0\n",
       "region      0\n",
       "charges     0\n",
       "dtype: int64"
      ]
     },
     "metadata": {},
     "output_type": "display_data"
    }
   ],
   "source": [
    "#Checking for null values which might hamper with the model\n",
    "df.isnull().sum()"
   ]
  },
  {
   "cell_type": "code",
   "execution_count": null,
   "metadata": {},
   "outputs": [
    {
     "data": {
      "text/html": [
       "<div>\n",
       "<style scoped>\n",
       "    .dataframe tbody tr th:only-of-type {\n",
       "        vertical-align: middle;\n",
       "    }\n",
       "\n",
       "    .dataframe tbody tr th {\n",
       "        vertical-align: top;\n",
       "    }\n",
       "\n",
       "    .dataframe thead th {\n",
       "        text-align: right;\n",
       "    }\n",
       "</style>\n",
       "<table border=\"1\" class=\"dataframe\">\n",
       "  <thead>\n",
       "    <tr style=\"text-align: right;\">\n",
       "      <th></th>\n",
       "      <th>age</th>\n",
       "      <th>bmi</th>\n",
       "      <th>children</th>\n",
       "      <th>charges</th>\n",
       "    </tr>\n",
       "  </thead>\n",
       "  <tbody>\n",
       "    <tr>\n",
       "      <th>count</th>\n",
       "      <td>1338.000000</td>\n",
       "      <td>1338.000000</td>\n",
       "      <td>1338.000000</td>\n",
       "      <td>1338.000000</td>\n",
       "    </tr>\n",
       "    <tr>\n",
       "      <th>mean</th>\n",
       "      <td>39.207025</td>\n",
       "      <td>30.663397</td>\n",
       "      <td>1.094918</td>\n",
       "      <td>13270.422265</td>\n",
       "    </tr>\n",
       "    <tr>\n",
       "      <th>std</th>\n",
       "      <td>14.049960</td>\n",
       "      <td>6.098187</td>\n",
       "      <td>1.205493</td>\n",
       "      <td>12110.011237</td>\n",
       "    </tr>\n",
       "    <tr>\n",
       "      <th>min</th>\n",
       "      <td>18.000000</td>\n",
       "      <td>15.960000</td>\n",
       "      <td>0.000000</td>\n",
       "      <td>1121.873900</td>\n",
       "    </tr>\n",
       "    <tr>\n",
       "      <th>25%</th>\n",
       "      <td>27.000000</td>\n",
       "      <td>26.296250</td>\n",
       "      <td>0.000000</td>\n",
       "      <td>4740.287150</td>\n",
       "    </tr>\n",
       "    <tr>\n",
       "      <th>50%</th>\n",
       "      <td>39.000000</td>\n",
       "      <td>30.400000</td>\n",
       "      <td>1.000000</td>\n",
       "      <td>9382.033000</td>\n",
       "    </tr>\n",
       "    <tr>\n",
       "      <th>75%</th>\n",
       "      <td>51.000000</td>\n",
       "      <td>34.693750</td>\n",
       "      <td>2.000000</td>\n",
       "      <td>16639.912515</td>\n",
       "    </tr>\n",
       "    <tr>\n",
       "      <th>max</th>\n",
       "      <td>64.000000</td>\n",
       "      <td>53.130000</td>\n",
       "      <td>5.000000</td>\n",
       "      <td>63770.428010</td>\n",
       "    </tr>\n",
       "  </tbody>\n",
       "</table>\n",
       "</div>"
      ],
      "text/plain": [
       "               age          bmi     children       charges\n",
       "count  1338.000000  1338.000000  1338.000000   1338.000000\n",
       "mean     39.207025    30.663397     1.094918  13270.422265\n",
       "std      14.049960     6.098187     1.205493  12110.011237\n",
       "min      18.000000    15.960000     0.000000   1121.873900\n",
       "25%      27.000000    26.296250     0.000000   4740.287150\n",
       "50%      39.000000    30.400000     1.000000   9382.033000\n",
       "75%      51.000000    34.693750     2.000000  16639.912515\n",
       "max      64.000000    53.130000     5.000000  63770.428010"
      ]
     },
     "metadata": {},
     "output_type": "display_data"
    }
   ],
   "source": [
    "df.describe()"
   ]
  },
  {
   "cell_type": "code",
   "execution_count": null,
   "metadata": {},
   "outputs": [
    {
     "name": "stderr",
     "output_type": "stream",
     "text": [
      "/opt/conda/lib/python3.7/site-packages/seaborn/distributions.py:2619: FutureWarning: `distplot` is a deprecated function and will be removed in a future version. Please adapt your code to use either `displot` (a figure-level function with similar flexibility) or `histplot` (an axes-level function for histograms).\n",
      "  warnings.warn(msg, FutureWarning)\n"
     ]
    },
    {
     "data": {
      "image/png": "[encoded data removed]",
      "text/plain": [
       "<Figure size 432x288 with 1 Axes>"
      ]
     },
     "metadata": {},
     "output_type": "display_data"
    }
   ],
   "source": [
    "sns.distplot(df['age'])\n",
    "plt.title('Age Distribution')\n",
    "plt.show()"
   ]
  },
  {
   "cell_type": "code",
   "execution_count": null,
   "metadata": {},
   "outputs": [
    {
     "data": {
      "image/png": "[encoded data removed]",
      "text/plain": [
       "<Figure size 432x288 with 1 Axes>"
      ]
     },
     "metadata": {},
     "output_type": "display_data"
    }
   ],
   "source": [
    "sns.countplot(x=df['sex'], data=df)\n",
    "plt.title(\"Sex distribution\")\n",
    "plt.show()"
   ]
  },
  {
   "cell_type": "code",
   "execution_count": null,
   "metadata": {},
   "outputs": [
    {
     "data": {
      "text/plain": [
       "male      676\n",
       "female    662\n",
       "Name: sex, dtype: int64"
      ]
     },
     "metadata": {},
     "output_type": "display_data"
    }
   ],
   "source": [
    "df['sex'].value_counts()"
   ]
  },
  {
   "cell_type": "code",
   "execution_count": null,
   "metadata": {},
   "outputs": [
    {
     "name": "stderr",
     "output_type": "stream",
     "text": [
      "/opt/conda/lib/python3.7/site-packages/seaborn/distributions.py:2619: FutureWarning: `distplot` is a deprecated function and will be removed in a future version. Please adapt your code to use either `displot` (a figure-level function with similar flexibility) or `histplot` (an axes-level function for histograms).\n",
      "  warnings.warn(msg, FutureWarning)\n"
     ]
    },
    {
     "data": {
      "image/png": "[encoded data removed]",
      "text/plain": [
       "<Figure size 432x288 with 1 Axes>"
      ]
     },
     "metadata": {},
     "output_type": "display_data"
    }
   ],
   "source": [
    "sns.distplot(df['bmi'])\n",
    "plt.title('BMI Distribution')\n",
    "plt.show()"
   ]
  },
  {
   "cell_type": "code",
   "execution_count": null,
   "metadata": {},
   "outputs": [
    {
     "data": {
      "image/png": "[encoded data removed]",
      "text/plain": [
       "<Figure size 432x288 with 1 Axes>"
      ]
     },
     "metadata": {},
     "output_type": "display_data"
    }
   ],
   "source": [
    "sns.countplot(x=df['children'], data=df)\n",
    "plt.title(\"Children\")\n",
    "plt.show()"
   ]
  },
  {
   "cell_type": "code",
   "execution_count": null,
   "metadata": {},
   "outputs": [
    {
     "data": {
      "text/plain": [
       "0    574\n",
       "1    324\n",
       "2    240\n",
       "3    157\n",
       "4     25\n",
       "5     18\n",
       "Name: children, dtype: int64"
      ]
     },
     "metadata": {},
     "output_type": "display_data"
    }
   ],
   "source": [
    "df['children'].value_counts()"
   ]
  },
  {
   "cell_type": "code",
   "execution_count": null,
   "metadata": {},
   "outputs": [
    {
     "data": {
      "image/png": "[encoded data removed]",
      "text/plain": [
       "<Figure size 432x288 with 1 Axes>"
      ]
     },
     "metadata": {},
     "output_type": "display_data"
    }
   ],
   "source": [
    "sns.countplot(x=df['smoker'], data=df)\n",
    "plt.title(\"Smoker distribution\")\n",
    "plt.show()"
   ]
  },
  {
   "cell_type": "code",
   "execution_count": null,
   "metadata": {},
   "outputs": [
    {
     "data": {
      "text/plain": [
       "no     1064\n",
       "yes     274\n",
       "Name: smoker, dtype: int64"
      ]
     },
     "metadata": {},
     "output_type": "display_data"
    }
   ],
   "source": [
    "df['smoker'].value_counts()"
   ]
  },
  {
   "cell_type": "code",
   "execution_count": null,
   "metadata": {},
   "outputs": [
    {
     "data": {
      "image/png": "[encoded data removed]",
      "text/plain": [
       "<Figure size 432x288 with 1 Axes>"
      ]
     },
     "metadata": {},
     "output_type": "display_data"
    }
   ],
   "source": [
    "data = df\n",
    "sns.countplot(x=df['region'], data=df)\n",
    "plt.title(\"Region distribution\")\n",
    "plt.show()"
   ]
  },
  {
   "cell_type": "code",
   "execution_count": null,
   "metadata": {},
   "outputs": [
    {
     "data": {
      "text/plain": [
       "southeast    364\n",
       "southwest    325\n",
       "northwest    325\n",
       "northeast    324\n",
       "Name: region, dtype: int64"
      ]
     },
     "metadata": {},
     "output_type": "display_data"
    }
   ],
   "source": [
    "df['region'].value_counts()"
   ]
  },
  {
   "cell_type": "code",
   "execution_count": null,
   "metadata": {},
   "outputs": [
    {
     "name": "stderr",
     "output_type": "stream",
     "text": [
      "/opt/conda/lib/python3.7/site-packages/seaborn/distributions.py:2619: FutureWarning: `distplot` is a deprecated function and will be removed in a future version. Please adapt your code to use either `displot` (a figure-level function with similar flexibility) or `histplot` (an axes-level function for histograms).\n",
      "  warnings.warn(msg, FutureWarning)\n"
     ]
    },
    {
     "data": {
      "image/png": "[encoded data removed]",
      "text/plain": [
       "<Figure size 432x288 with 1 Axes>"
      ]
     },
     "metadata": {},
     "output_type": "display_data"
    }
   ],
   "source": [
    "sns.distplot(df['charges'])\n",
    "plt.title('Charges Distribution')\n",
    "plt.show()"
   ]
  },
  {
   "cell_type": "code",
   "execution_count": null,
   "metadata": {},
   "outputs": [],
   "source": [
    "#Replace male=0 and female=1\n",
    "df.replace({'sex':{'male':0,'female':1}}, inplace=True)\n",
    "\n",
    "#If smoker yes, then 1 else 0\n",
    "df.replace({'smoker':{'no':0,'yes':1}}, inplace=True)\n",
    "\n",
    "#encoding regions\n",
    "df.replace({'region':{'northeast':0,'northwest':1,'southeast':2,'southwest':3}}, inplace=True)"
   ]
  },
  {
   "cell_type": "code",
   "execution_count": null,
   "metadata": {},
   "outputs": [
    {
     "data": {
      "text/html": [
       "<div>\n",
       "<style scoped>\n",
       "    .dataframe tbody tr th:only-of-type {\n",
       "        vertical-align: middle;\n",
       "    }\n",
       "\n",
       "    .dataframe tbody tr th {\n",
       "        vertical-align: top;\n",
       "    }\n",
       "\n",
       "    .dataframe thead th {\n",
       "        text-align: right;\n",
       "    }\n",
       "</style>\n",
       "<table border=\"1\" class=\"dataframe\">\n",
       "  <thead>\n",
       "    <tr style=\"text-align: right;\">\n",
       "      <th></th>\n",
       "      <th>age</th>\n",
       "      <th>sex</th>\n",
       "      <th>bmi</th>\n",
       "      <th>children</th>\n",
       "      <th>smoker</th>\n",
       "      <th>region</th>\n",
       "      <th>charges</th>\n",
       "    </tr>\n",
       "  </thead>\n",
       "  <tbody>\n",
       "    <tr>\n",
       "      <th>0</th>\n",
       "      <td>19</td>\n",
       "      <td>1</td>\n",
       "      <td>27.900</td>\n",
       "      <td>0</td>\n",
       "      <td>1</td>\n",
       "      <td>3</td>\n",
       "      <td>16884.92400</td>\n",
       "    </tr>\n",
       "    <tr>\n",
       "      <th>1</th>\n",
       "      <td>18</td>\n",
       "      <td>0</td>\n",
       "      <td>33.770</td>\n",
       "      <td>1</td>\n",
       "      <td>0</td>\n",
       "      <td>2</td>\n",
       "      <td>1725.55230</td>\n",
       "    </tr>\n",
       "    <tr>\n",
       "      <th>2</th>\n",
       "      <td>28</td>\n",
       "      <td>0</td>\n",
       "      <td>33.000</td>\n",
       "      <td>3</td>\n",
       "      <td>0</td>\n",
       "      <td>2</td>\n",
       "      <td>4449.46200</td>\n",
       "    </tr>\n",
       "    <tr>\n",
       "      <th>3</th>\n",
       "      <td>33</td>\n",
       "      <td>0</td>\n",
       "      <td>22.705</td>\n",
       "      <td>0</td>\n",
       "      <td>0</td>\n",
       "      <td>1</td>\n",
       "      <td>21984.47061</td>\n",
       "    </tr>\n",
       "    <tr>\n",
       "      <th>4</th>\n",
       "      <td>32</td>\n",
       "      <td>0</td>\n",
       "      <td>28.880</td>\n",
       "      <td>0</td>\n",
       "      <td>0</td>\n",
       "      <td>1</td>\n",
       "      <td>3866.85520</td>\n",
       "    </tr>\n",
       "  </tbody>\n",
       "</table>\n",
       "</div>"
      ],
      "text/plain": [
       "   age  sex     bmi  children  smoker  region      charges\n",
       "0   19    1  27.900         0       1       3  16884.92400\n",
       "1   18    0  33.770         1       0       2   1725.55230\n",
       "2   28    0  33.000         3       0       2   4449.46200\n",
       "3   33    0  22.705         0       0       1  21984.47061\n",
       "4   32    0  28.880         0       0       1   3866.85520"
      ]
     },
     "metadata": {},
     "output_type": "display_data"
    }
   ],
   "source": [
    "df.head()"
   ]
  },
  {
   "cell_type": "code",
   "execution_count": null,
   "metadata": {},
   "outputs": [],
   "source": [
    "X = df.drop(columns='charges')\n",
    "Y = df['charges']"
   ]
  },
  {
   "cell_type": "code",
   "execution_count": null,
   "metadata": {},
   "outputs": [
    {
     "data": {
      "text/html": [
       "<div>\n",
       "<style scoped>\n",
       "    .dataframe tbody tr th:only-of-type {\n",
       "        vertical-align: middle;\n",
       "    }\n",
       "\n",
       "    .dataframe tbody tr th {\n",
       "        vertical-align: top;\n",
       "    }\n",
       "\n",
       "    .dataframe thead th {\n",
       "        text-align: right;\n",
       "    }\n",
       "</style>\n",
       "<table border=\"1\" class=\"dataframe\">\n",
       "  <thead>\n",
       "    <tr style=\"text-align: right;\">\n",
       "      <th></th>\n",
       "      <th>age</th>\n",
       "      <th>sex</th>\n",
       "      <th>bmi</th>\n",
       "      <th>children</th>\n",
       "      <th>smoker</th>\n",
       "      <th>region</th>\n",
       "    </tr>\n",
       "  </thead>\n",
       "  <tbody>\n",
       "    <tr>\n",
       "      <th>0</th>\n",
       "      <td>19</td>\n",
       "      <td>1</td>\n",
       "      <td>27.900</td>\n",
       "      <td>0</td>\n",
       "      <td>1</td>\n",
       "      <td>3</td>\n",
       "    </tr>\n",
       "    <tr>\n",
       "      <th>1</th>\n",
       "      <td>18</td>\n",
       "      <td>0</td>\n",
       "      <td>33.770</td>\n",
       "      <td>1</td>\n",
       "      <td>0</td>\n",
       "      <td>2</td>\n",
       "    </tr>\n",
       "    <tr>\n",
       "      <th>2</th>\n",
       "      <td>28</td>\n",
       "      <td>0</td>\n",
       "      <td>33.000</td>\n",
       "      <td>3</td>\n",
       "      <td>0</td>\n",
       "      <td>2</td>\n",
       "    </tr>\n",
       "    <tr>\n",
       "      <th>3</th>\n",
       "      <td>33</td>\n",
       "      <td>0</td>\n",
       "      <td>22.705</td>\n",
       "      <td>0</td>\n",
       "      <td>0</td>\n",
       "      <td>1</td>\n",
       "    </tr>\n",
       "    <tr>\n",
       "      <th>4</th>\n",
       "      <td>32</td>\n",
       "      <td>0</td>\n",
       "      <td>28.880</td>\n",
       "      <td>0</td>\n",
       "      <td>0</td>\n",
       "      <td>1</td>\n",
       "    </tr>\n",
       "  </tbody>\n",
       "</table>\n",
       "</div>"
      ],
      "text/plain": [
       "   age  sex     bmi  children  smoker  region\n",
       "0   19    1  27.900         0       1       3\n",
       "1   18    0  33.770         1       0       2\n",
       "2   28    0  33.000         3       0       2\n",
       "3   33    0  22.705         0       0       1\n",
       "4   32    0  28.880         0       0       1"
      ]
     },
     "metadata": {},
     "output_type": "display_data"
    }
   ],
   "source": [
    "X.head()"
   ]
  },
  {
   "cell_type": "code",
   "execution_count": null,
   "metadata": {},
   "outputs": [
    {
     "data": {
      "text/plain": [
       "0    16884.92400\n",
       "1     1725.55230\n",
       "2     4449.46200\n",
       "3    21984.47061\n",
       "4     3866.85520\n",
       "Name: charges, dtype: float64"
      ]
     },
     "metadata": {},
     "output_type": "display_data"
    }
   ],
   "source": [
    "Y.head()"
   ]
  },
  {
   "cell_type": "code",
   "execution_count": null,
   "metadata": {},
   "outputs": [],
   "source": [
    "#creating vectors\n",
    "x = X.to_numpy()\n",
    "y = Y.to_numpy()"
   ]
  },
  {
   "cell_type": "markdown",
   "metadata": {},
   "source": [
    "# Seperating the test set"
   ]
  },
  {
   "cell_type": "code",
   "execution_count": null,
   "metadata": {},
   "outputs": [
    {
     "name": "stdout",
     "output_type": "stream",
     "text": [
      "(1338, 6) (1070, 6) (268, 6)\n"
     ]
    }
   ],
   "source": [
    "from sklearn.model_selection import train_test_split\n",
    "X_train, X_test, Y_train, Y_test = train_test_split(x, y, test_size=0.2, random_state=42)\n",
    "\n",
    "print(x.shape, X_train.shape, X_test.shape)"
   ]
  },
  {
   "cell_type": "markdown",
   "metadata": {},
   "source": [
    "# Linear Regression"
   ]
  },
  {
   "cell_type": "code",
   "execution_count": null,
   "metadata": {},
   "outputs": [
    {
     "data": {
      "text/plain": [
       "LinearRegression()"
      ]
     },
     "metadata": {},
     "output_type": "display_data"
    }
   ],
   "source": [
    "from sklearn.linear_model import LinearRegression\n",
    "regr = LinearRegression()\n",
    "regr.fit(X_train, Y_train)"
   ]
  },
  {
   "cell_type": "markdown",
   "metadata": {},
   "source": [
    "# Predicting the test Set"
   ]
  },
  {
   "cell_type": "code",
   "execution_count": null,
   "metadata": {},
   "outputs": [
    {
     "name": "stdout",
     "output_type": "stream",
     "text": [
      "[[ 8924.41  9095.07]\n",
      " [ 7116.3   5272.18]\n",
      " [36909.01 29330.98]\n",
      " [ 9507.87  9301.89]\n",
      " [27013.35 33750.29]\n",
      " [10790.78  4536.26]\n",
      " [  226.3   2117.34]\n",
      " [16942.72 14210.54]\n",
      " [ 1056.63  3732.63]\n",
      " [11267.92 10264.44]\n",
      " [28048.6  18259.22]\n",
      " [ 9424.36  7256.72]\n",
      " [ 5326.32  3947.41]\n",
      " [38460.06 46151.12]\n",
      " [40303.41 48673.56]\n",
      " [37147.01 44202.65]\n",
      " [15287.92  9800.89]\n",
      " [35965.05 42969.85]\n",
      " [ 9179.18  8233.1 ]\n",
      " [31510.83 21774.32]\n",
      " [ 3797.79  5080.1 ]\n",
      " [10070.83  7441.5 ]\n",
      " [ 2312.58  1256.3 ]\n",
      " [ 7074.41  2755.02]\n",
      " [11352.37 11085.59]\n",
      " [12907.77 10923.93]\n",
      " [14448.85 12644.59]\n",
      " [ 6205.66 18804.75]\n",
      " [ 9917.01  9715.84]\n",
      " [ 2239.5   1131.51]\n",
      " [ 9060.55 15828.82]\n",
      " [13120.56 11842.62]\n",
      " [ 4617.71  2020.55]\n",
      " [ 3467.91  5693.43]\n",
      " [ 4402.75  2904.09]\n",
      " [12967.92  7448.4 ]\n",
      " [ 1927.44  2597.78]\n",
      " [ 8757.92  7337.75]\n",
      " [33324.35 23887.66]\n",
      " [32638.48 38709.18]\n",
      " [ 3852.42  4687.8 ]\n",
      " [ 4370.4   2643.27]\n",
      " [14080.76 11674.13]\n",
      " [11478.63 12124.99]\n",
      " [ 8829.26  4890.  ]\n",
      " [12046.15 12333.83]\n",
      " [ 5322.81  3579.83]\n",
      " [ 3100.71  4391.65]\n",
      " [35546.61 42124.52]\n",
      " [ 9201.61  4463.21]\n",
      " [15894.24 13887.2 ]\n",
      " [ 2406.04  1719.44]\n",
      " [12397.52 28476.73]\n",
      " [ 1433.91  1708.93]\n",
      " [13448.14 10594.23]\n",
      " [12519.54 25333.33]\n",
      " [ 4295.29  3645.09]\n",
      " [32202.68 38746.36]\n",
      " [13263.17 11848.14]\n",
      " [12842.11 10564.88]\n",
      " [14111.94 13880.95]\n",
      " [10551.59  4753.64]\n",
      " [16298.17 27941.29]\n",
      " [ 7818.16  8017.06]\n",
      " [11787.57 23045.57]\n",
      " [ 4113.27  4133.64]\n",
      " [26596.7  17942.11]\n",
      " [10998.86 25992.82]\n",
      " [ 2193.73  3594.17]\n",
      " [ 6139.36  1682.6 ]\n",
      " [10668.54  6079.67]\n",
      " [11573.91  9411.  ]\n",
      " [11041.12  8283.68]\n",
      " [ 9226.58  6338.08]\n",
      " [12007.44  7152.67]\n",
      " [ 6811.43  4889.04]\n",
      " [ 7191.84  4846.92]\n",
      " [10790.06 11454.02]\n",
      " [ 6639.37  4349.46]\n",
      " [ 8711.93  9101.8 ]\n",
      " [ 3824.76  1391.53]\n",
      " [36583.6  28101.33]\n",
      " [ 6321.81  5152.13]\n",
      " [30776.8  38511.63]\n",
      " [34875.57 44501.4 ]\n",
      " [35221.48 41097.16]\n",
      " [ 7079.62  4837.58]\n",
      " [12906.65 10601.63]\n",
      " [ 9989.17  8310.84]\n",
      " [14409.61 11264.54]\n",
      " [17632.66 15230.32]\n",
      " [35329.86 27037.91]\n",
      " [32980.24 23401.31]\n",
      " [ 6136.21  5031.27]\n",
      " [32051.99 38282.75]\n",
      " [ 9422.4   6875.96]\n",
      " [29504.9  19719.69]\n",
      " [ 3732.74  1880.07]\n",
      " [28359.8  18765.88]\n",
      " [ 5779.66  6402.29]\n",
      " [ 5456.76  4527.18]\n",
      " [ 1827.69  1743.21]\n",
      " [11549.9   5709.16]\n",
      " [15012.89 12363.55]\n",
      " [11657.95 13129.6 ]\n",
      " [ 4363.65  1727.54]\n",
      " [ 9957.83  7731.43]\n",
      " [31781.67 21195.82]\n",
      " [ -129.16  1702.46]\n",
      " [32890.4  23244.79]\n",
      " [ 3219.19 23082.96]\n",
      " [10224.5   2927.06]\n",
      " [14265.39 13019.16]\n",
      " [31584.36 37701.88]\n",
      " [11409.6   9778.35]\n",
      " [ 3867.76  1980.07]\n",
      " [13059.65 30260.  ]\n",
      " [31756.33 22478.6 ]\n",
      " [ 8214.16  6313.76]\n",
      " [ 3287.68  2789.06]\n",
      " [ 8383.13  5594.85]\n",
      " [10636.53  7261.74]\n",
      " [15157.8  11396.9 ]\n",
      " [ 5702.51  1986.93]\n",
      " [ 3836.58  4719.74]\n",
      " [10272.53  7749.16]\n",
      " [10956.59  7345.73]\n",
      " [11071.81  9288.03]\n",
      " [14496.65 12244.53]\n",
      " [ 7476.93  1837.28]\n",
      " [ 5450.78  3972.92]\n",
      " [ 9288.3   5934.38]\n",
      " [ 9399.1   5836.52]\n",
      " [12476.32  7935.29]\n",
      " [ 8278.37  5649.72]\n",
      " [15269.65 12347.17]\n",
      " [ 8352.08 12404.88]\n",
      " [31738.38 22144.03]\n",
      " [35819.09 42983.46]\n",
      " [31547.65 37270.15]\n",
      " [ 6063.62  5267.82]\n",
      " [12551.29  9866.3 ]\n",
      " [ 6068.88  2322.62]\n",
      " [14599.42 33471.97]\n",
      " [ 2561.46  2137.65]\n",
      " [32910.51 23306.55]\n",
      " [ 6315.24  5261.47]\n",
      " [ 4979.53  3761.29]\n",
      " [14384.66 11436.74]\n",
      " [ 6884.15  4751.07]\n",
      " [38706.09 46661.44]\n",
      " [ 3136.58  2690.11]\n",
      " [ 5933.1   1146.8 ]\n",
      " [31625.64 37607.53]\n",
      " [11596.31  6373.56]\n",
      " [ 8417.74  4518.83]\n",
      " [14754.03 13555.  ]\n",
      " [ 9879.46  8547.69]\n",
      " [27160.44 34439.86]\n",
      " [33395.   39125.33]\n",
      " [14499.09 13607.37]\n",
      " [ 1735.96  2710.83]\n",
      " [13118.54 14988.43]\n",
      " [ 2176.9   2396.1 ]\n",
      " [ 5388.37  3591.48]\n",
      " [11622.94  7162.01]\n",
      " [39740.87 48824.45]\n",
      " [36545.09 43578.94]\n",
      " [33944.74 39556.49]\n",
      " [ 3840.13  2632.99]\n",
      " [ 7412.53  9182.17]\n",
      " [ 8602.72  6238.3 ]\n",
      " [12382.56  5757.41]\n",
      " [ 4865.65  4239.89]\n",
      " [ 1994.46  2154.36]\n",
      " [32178.8  21978.68]\n",
      " [25053.78 16297.85]\n",
      " [17536.07 13831.12]\n",
      " [26471.07 32734.19]\n",
      " [10217.73 11830.61]\n",
      " [37210.33 29523.17]\n",
      " [ -477.17  3167.46]\n",
      " [ 6841.3   8428.07]\n",
      " [ 7720.38  5012.47]\n",
      " [ 4324.63  5209.58]\n",
      " [ 5148.09  2855.44]\n",
      " [ 5866.89 20277.81]\n",
      " [ 4252.38  3554.2 ]\n",
      " [15235.18  8569.86]\n",
      " [11184.09 10594.5 ]\n",
      " [ 6865.81  3597.6 ]\n",
      " [ 2473.47  7323.73]\n",
      " [ 1492.05  2731.91]\n",
      " [31876.36 38711.  ]\n",
      " [16467.92 12981.35]\n",
      " [12070.84  9283.56]\n",
      " [ 1321.27  2709.11]\n",
      " [12481.98 12096.65]\n",
      " [ 1516.5   2198.19]\n",
      " [ 8688.36  8932.08]\n",
      " [ 1929.99  3176.29]\n",
      " [33965.04 24393.62]\n",
      " [10902.16  4266.17]\n",
      " [ 2652.65 22493.66]\n",
      " [25737.23 17085.27]\n",
      " [26409.75 16577.78]\n",
      " [ 9484.12  8827.21]\n",
      " [ 1858.05  4296.27]\n",
      " [13312.36  7804.16]\n",
      " [ 1075.29  3208.79]\n",
      " [10343.96 12957.12]\n",
      " [10640.16 22192.44]\n",
      " [16869.18  9432.93]\n",
      " [26909.56 17043.34]\n",
      " [ 7008.93  6593.51]\n",
      " [ 5143.46  4137.52]\n",
      " [ 5911.32  4779.6 ]\n",
      " [13297.22 14001.29]\n",
      " [11170.92 12629.9 ]\n",
      " [ 8419.97  5245.23]\n",
      " [ 5174.41  2404.73]\n",
      " [12343.88  6948.7 ]\n",
      " [13902.3   6435.62]\n",
      " [35823.3  42560.43]\n",
      " [ 4200.5   2055.32]\n",
      " [28974.98 34672.15]\n",
      " [ -959.29  1731.68]\n",
      " [ 2918.94  1639.56]\n",
      " [11110.51  9377.9 ]\n",
      " [15731.81 10977.21]\n",
      " [ 5263.76  1534.3 ]\n",
      " [ 6952.83  9644.25]\n",
      " [ 3804.58  4529.48]\n",
      " [31256.71 37829.72]\n",
      " [ 7305.59  9991.04]\n",
      " [12461.34  8125.78]\n",
      " [ 5664.22  3877.3 ]\n",
      " [ 9467.26  5979.73]\n",
      " [36360.69 43896.38]\n",
      " [ 4486.61  1674.63]\n",
      " [ 9633.32 13204.29]\n",
      " [31093.62 44585.46]\n",
      " [ 5787.94  3021.81]\n",
      " [ 4665.96  3392.98]\n",
      " [ 1100.69  1632.04]\n",
      " [ 4877.83  2699.57]\n",
      " [ 4521.29 20177.67]\n",
      " [ 6448.76  4076.5 ]\n",
      " [18700.99 12592.53]\n",
      " [-1483.15  1621.34]\n",
      " [ 2319.8   1875.34]\n",
      " [10631.36  7196.87]\n",
      " [ 3100.28  3161.45]\n",
      " [10170.02 12029.29]\n",
      " [ 3777.52  2719.28]\n",
      " [ 5184.56 18218.16]\n",
      " [12348.21 12146.97]\n",
      " [ 6259.9   3292.53]\n",
      " [ 8190.48  8688.86]\n",
      " [ 7537.07  6113.23]\n",
      " [ 8973.21  8059.68]\n",
      " [10544.17 13415.04]\n",
      " [27868.4  18246.5 ]\n",
      " [39116.97 47055.53]\n",
      " [11814.56 12222.9 ]\n",
      " [ 7638.11  6067.13]\n",
      " [40959.08 63770.43]\n",
      " [12258.23  9872.7 ]]\n"
     ]
    }
   ],
   "source": [
    "Y_pred = regr.predict(X_test)\n",
    "np.set_printoptions(precision = 2)\n",
    "\n",
    "#concatenating the two vectors for side by side comparision of predicted and expected values\n",
    "print(np.concatenate((Y_pred.reshape(len(Y_pred),1), Y_test.reshape(len(Y_pred), 1)),1))"
   ]
  },
  {
   "cell_type": "code",
   "execution_count": null,
   "metadata": {},
   "outputs": [
    {
     "name": "stdout",
     "output_type": "stream",
     "text": [
      "R squared value :  0.7833463107364538\n"
     ]
    }
   ],
   "source": [
    "r2_test = metrics.r2_score(Y_test, Y_pred)\n",
    "print('R squared value : ', r2_test)"
   ]
  },
  {
   "cell_type": "markdown",
   "metadata": {},
   "source": [
    "**Prediction System**"
   ]
  },
  {
   "cell_type": "code",
   "execution_count": null,
   "metadata": {},
   "outputs": [
    {
     "name": "stdout",
     "output_type": "stream",
     "text": [
      "[2070.95]\n",
      "Insurace Cost is 2070.95 USD\n"
     ]
    }
   ],
   "source": [
    "user_data = (22,0,24.96,0,0,0)\n",
    "\n",
    "# change data to np array\n",
    "user_data_array = (np.asarray(user_data)).reshape(1,-1)\n",
    "prediction = regr.predict(user_data_array)\n",
    "print(prediction)\n",
    "\n",
    "print('Insurace Cost is %.2f' % prediction[0], 'USD')"
   ]
  },
  {
   "cell_type": "code",
   "execution_count": null,
   "metadata": {},
   "outputs": [
    {
     "name": "stdout",
     "output_type": "stream",
     "text": [
      "[ 2.57e+02  1.88e+01  3.36e+02  4.25e+02  2.36e+04 -2.71e+02]\n",
      "-11965.40\n"
     ]
    }
   ],
   "source": [
    "print(regr.coef_)\n",
    "print(f\"{regr.intercept_:.2f}\")"
   ]
  },
  {
   "cell_type": "markdown",
   "metadata": {},
   "source": [
    "# Support Vector Regression\n",
    "\n"
   ]
  },
  {
   "cell_type": "code",
   "execution_count": null,
   "metadata": {},
   "outputs": [],
   "source": [
    "sc_x = StandardScaler()\n",
    "sc_y = StandardScaler()\n",
    "sc_ytrain = StandardScaler()\n",
    "sc_xtrain = StandardScaler()\n",
    "sc_ytest = StandardScaler()\n",
    "sc_xtest = StandardScaler()"
   ]
  },
  {
   "cell_type": "code",
   "execution_count": null,
   "metadata": {},
   "outputs": [],
   "source": [
    "x_trans = sc_x.fit_transform(x)\n",
    "y.resize((len(y)), 1)\n",
    "y_trans = sc_y.fit_transform(y)\n",
    "\n",
    "y_transTrain = Y_train\n",
    "y_transTrain.resize((len(Y_train)), 1)\n",
    "y_transTrain = sc_ytrain.fit_transform(Y_train)\n",
    "\n",
    "x_transTrain = X_train\n",
    "x_transTrain = sc_xtrain.fit_transform(X_train)\n",
    "\n",
    "y_transTest = Y_test\n",
    "y_transTest.resize((len(Y_test)), 1)\n",
    "y_transTest = sc_ytest.fit_transform(Y_test)\n",
    "\n",
    "x_transTest = X_test\n",
    "x_transTest = sc_xtest.fit_transform(X_test)"
   ]
  },
  {
   "cell_type": "markdown",
   "metadata": {},
   "source": [
    "Applying fit transform to perform scaling using mean and std dev calculated"
   ]
  },
  {
   "cell_type": "code",
   "execution_count": null,
   "metadata": {},
   "outputs": [
    {
     "name": "stdout",
     "output_type": "stream",
     "text": [
      "(1070, 6)\n",
      "(1070, 1)\n",
      "(268, 6)\n",
      "(268, 1)\n"
     ]
    }
   ],
   "source": [
    "print(x_transTrain.shape)\n",
    "print(y_transTrain.shape)\n",
    "print(x_transTest.shape)\n",
    "print(y_transTest.shape)"
   ]
  },
  {
   "cell_type": "code",
   "execution_count": null,
   "metadata": {},
   "outputs": [
    {
     "data": {
      "text/plain": [
       "SVR()"
      ]
     },
     "metadata": {},
     "output_type": "display_data"
    }
   ],
   "source": [
    "from sklearn.svm import SVR\n",
    "regrs = SVR(kernel = 'rbf')\n",
    "regrs.fit(x_transTrain, y_transTrain.ravel())"
   ]
  },
  {
   "cell_type": "code",
   "execution_count": null,
   "metadata": {},
   "outputs": [
    {
     "name": "stdout",
     "output_type": "stream",
     "text": [
      "[[ 9720.09  9095.07]\n",
      " [ 5809.81  5272.18]\n",
      " [30396.82 29330.98]\n",
      " [10022.25  9301.89]\n",
      " [27523.37 33750.29]\n",
      " [ 5191.3   4536.26]\n",
      " [ 2160.7   2117.34]\n",
      " [15274.67 14210.54]\n",
      " [ 4754.97  3732.63]\n",
      " [11210.31 10264.44]\n",
      " [17633.44 18259.22]\n",
      " [ 8336.67  7256.72]\n",
      " [ 4283.89  3947.41]\n",
      " [44705.66 46151.12]\n",
      " [48020.91 48673.56]\n",
      " [47323.   44202.65]\n",
      " [10462.37  9800.89]\n",
      " [48353.58 42969.85]\n",
      " [ 9033.33  8233.1 ]\n",
      " [23191.98 21774.32]\n",
      " [ 6814.41  5080.1 ]\n",
      " [ 8553.15  7441.5 ]\n",
      " [ 1859.27  1256.3 ]\n",
      " [ 3155.88  2755.02]\n",
      " [11978.02 11085.59]\n",
      " [12103.26 10923.93]\n",
      " [13860.3  12644.59]\n",
      " [ 5527.67 18804.75]\n",
      " [10401.36  9715.84]\n",
      " [ 1798.98  1131.51]\n",
      " [ 8464.48 15828.82]\n",
      " [12973.24 11842.62]\n",
      " [ 2311.38  2020.55]\n",
      " [ 6125.47  5693.43]\n",
      " [ 3632.98  2904.09]\n",
      " [ 8750.14  7448.4 ]\n",
      " [ 2375.47  2597.78]\n",
      " [ 8037.19  7337.75]\n",
      " [23728.05 23887.66]\n",
      " [38601.13 38709.18]\n",
      " [ 6055.54  4687.8 ]\n",
      " [ 3412.63  2643.27]\n",
      " [12877.34 11674.13]\n",
      " [13384.98 12124.99]\n",
      " [ 5885.03  4890.  ]\n",
      " [13316.25 12333.83]\n",
      " [ 4219.65  3579.83]\n",
      " [ 4954.34  4391.65]\n",
      " [42799.96 42124.52]\n",
      " [ 5425.92  4463.21]\n",
      " [15109.54 13887.2 ]\n",
      " [ 2395.93  1719.44]\n",
      " [ 7250.77 28476.73]\n",
      " [ 2351.26  1708.93]\n",
      " [11895.96 10594.23]\n",
      " [11530.32 25333.33]\n",
      " [ 4108.16  3645.09]\n",
      " [37427.37 38746.36]\n",
      " [13026.86 11848.14]\n",
      " [11757.5  10564.88]\n",
      " [15045.5  13880.95]\n",
      " [ 4971.33  4753.64]\n",
      " [14813.56 27941.29]\n",
      " [ 8621.61  8017.06]\n",
      " [11284.98 23045.57]\n",
      " [ 4572.49  4133.64]\n",
      " [16236.2  17942.11]\n",
      " [11943.05 25992.82]\n",
      " [ 3885.31  3594.17]\n",
      " [ 2459.25  1682.6 ]\n",
      " [ 7027.53  6079.67]\n",
      " [10370.95  9411.  ]\n",
      " [ 9113.33  8283.68]\n",
      " [ 7411.81  6338.08]\n",
      " [ 8208.28  7152.67]\n",
      " [ 5486.71  4889.04]\n",
      " [ 5862.52  4846.92]\n",
      " [12574.45 11454.02]\n",
      " [ 4681.31  4349.46]\n",
      " [ 9768.68  9101.8 ]\n",
      " [ 2116.3   1391.53]\n",
      " [31032.65 28101.33]\n",
      " [ 5498.74  5152.13]\n",
      " [39857.56 38511.63]\n",
      " [32965.39 44501.4 ]\n",
      " [36995.61 41097.16]\n",
      " [ 4895.74  4837.58]\n",
      " [11865.91 10601.63]\n",
      " [ 9062.4   8310.84]\n",
      " [12020.83 11264.54]\n",
      " [16354.2  15230.32]\n",
      " [24730.1  27037.91]\n",
      " [25845.03 23401.31]\n",
      " [ 5972.88  5031.27]\n",
      " [38584.04 38282.75]\n",
      " [ 7976.12  6875.96]\n",
      " [24326.25 19719.69]\n",
      " [ 2178.11  1880.07]\n",
      " [18430.33 18765.88]\n",
      " [ 7182.05  6402.29]\n",
      " [ 5057.29  4527.18]\n",
      " [ 2011.96  1743.21]\n",
      " [ 6691.89  5709.16]\n",
      " [13094.67 12363.55]\n",
      " [14253.43 13129.6 ]\n",
      " [ 2591.11  1727.54]\n",
      " [ 8887.32  7731.43]\n",
      " [20988.93 21195.82]\n",
      " [ 2209.    1702.46]\n",
      " [21957.5  23244.79]\n",
      " [ 1991.74 23082.96]\n",
      " [ 3230.55  2927.06]\n",
      " [14193.87 13019.16]\n",
      " [34573.06 37701.88]\n",
      " [10721.45  9778.35]\n",
      " [ 2792.16  1980.07]\n",
      " [13964.65 30260.  ]\n",
      " [25276.94 22478.6 ]\n",
      " [ 6871.62  6313.76]\n",
      " [ 3479.6   2789.06]\n",
      " [ 6253.76  5594.85]\n",
      " [ 8375.6   7261.74]\n",
      " [12710.56 11396.9 ]\n",
      " [ 2745.1   1986.93]\n",
      " [ 5411.01  4719.74]\n",
      " [ 8435.5   7749.16]\n",
      " [ 7875.76  7345.73]\n",
      " [10465.98  9288.03]\n",
      " [13465.43 12244.53]\n",
      " [ 2360.27  1837.28]\n",
      " [ 4471.84  3972.92]\n",
      " [ 6346.54  5934.38]\n",
      " [ 6138.78  5836.52]\n",
      " [ 9142.03  7935.29]\n",
      " [ 6258.54  5649.72]\n",
      " [13540.98 12347.17]\n",
      " [ 5185.69 12404.88]\n",
      " [32837.33 22144.03]\n",
      " [48119.   42983.46]\n",
      " [30987.55 37270.15]\n",
      " [ 5706.33  5267.82]\n",
      " [11060.04  9866.3 ]\n",
      " [ 3117.39  2322.62]\n",
      " [12221.91 33471.97]\n",
      " [ 2760.09  2137.65]\n",
      " [26476.51 23306.55]\n",
      " [ 6139.67  5261.47]\n",
      " [ 4253.73  3761.29]\n",
      " [12674.87 11436.74]\n",
      " [ 5739.11  4751.07]\n",
      " [46490.81 46661.44]\n",
      " [ 2826.81  2690.11]\n",
      " [ 1822.11  1146.8 ]\n",
      " [34152.59 37607.53]\n",
      " [ 6691.14  6373.56]\n",
      " [ 5388.67  4518.83]\n",
      " [14737.2  13555.  ]\n",
      " [ 9363.06  8547.69]\n",
      " [31351.64 34439.86]\n",
      " [34838.11 39125.33]\n",
      " [14640.86 13607.37]\n",
      " [ 3151.23  2710.83]\n",
      " [15169.45 14988.43]\n",
      " [ 2781.55  2396.1 ]\n",
      " [ 4030.44  3591.48]\n",
      " [ 8266.65  7162.01]\n",
      " [46411.92 48824.45]\n",
      " [37057.17 43578.94]\n",
      " [33306.88 39556.49]\n",
      " [ 2997.31  2632.99]\n",
      " [10154.65  9182.17]\n",
      " [ 6705.95  6238.3 ]\n",
      " [ 7126.05  5757.41]\n",
      " [ 5080.81  4239.89]\n",
      " [ 2350.83  2154.36]\n",
      " [24161.29 21978.68]\n",
      " [21606.86 16297.85]\n",
      " [14871.37 13831.12]\n",
      " [15385.89 32734.19]\n",
      " [12969.82 11830.61]\n",
      " [31183.89 29523.17]\n",
      " [ 4785.92  3167.46]\n",
      " [ 9581.76  8428.07]\n",
      " [ 5259.43  5012.47]\n",
      " [ 5577.59  5209.58]\n",
      " [ 3163.35  2855.44]\n",
      " [ 4796.66 20277.81]\n",
      " [ 3985.44  3554.2 ]\n",
      " [ 9188.31  8569.86]\n",
      " [11843.31 10594.5 ]\n",
      " [ 4202.4   3597.6 ]\n",
      " [ 2575.96  7323.73]\n",
      " [ 3024.9   2731.91]\n",
      " [38918.32 38711.  ]\n",
      " [14201.24 12981.35]\n",
      " [10218.9   9283.56]\n",
      " [ 3123.91  2709.11]\n",
      " [12936.68 12096.65]\n",
      " [ 2577.2   2198.19]\n",
      " [ 9847.7   8932.08]\n",
      " [ 3229.92  3176.29]\n",
      " [28901.39 24393.62]\n",
      " [ 5184.58  4266.17]\n",
      " [ 3493.61 22493.66]\n",
      " [19120.01 17085.27]\n",
      " [16035.64 16577.78]\n",
      " [ 9942.99  8827.21]\n",
      " [ 5428.22  4296.27]\n",
      " [ 8945.15  7804.16]\n",
      " [ 3066.63  3208.79]\n",
      " [13668.1  12957.12]\n",
      " [13134.34 22192.44]\n",
      " [10870.86  9432.93]\n",
      " [19387.74 17043.34]\n",
      " [ 7686.98  6593.51]\n",
      " [ 4402.42  4137.52]\n",
      " [ 5218.63  4779.6 ]\n",
      " [15268.61 14001.29]\n",
      " [13769.09 12629.9 ]\n",
      " [ 5629.42  5245.23]\n",
      " [ 2622.22  2404.73]\n",
      " [ 7979.04  6948.7 ]\n",
      " [ 7898.58  6435.62]\n",
      " [45568.16 42560.43]\n",
      " [ 2761.97  2055.32]\n",
      " [28702.56 34672.15]\n",
      " [ 1772.21  1731.68]\n",
      " [ 2340.03  1639.56]\n",
      " [10582.5   9377.9 ]\n",
      " [12401.87 10977.21]\n",
      " [ 2260.6   1534.3 ]\n",
      " [10807.1   9644.25]\n",
      " [ 4911.19  4529.48]\n",
      " [28934.15 37829.72]\n",
      " [11149.27  9991.04]\n",
      " [ 9284.28  8125.78]\n",
      " [ 4686.88  3877.3 ]\n",
      " [ 7070.99  5979.73]\n",
      " [50239.7  43896.38]\n",
      " [ 2413.9   1674.63]\n",
      " [14131.32 13204.29]\n",
      " [37353.66 44585.46]\n",
      " [ 3354.92  3021.81]\n",
      " [ 3644.03  3392.98]\n",
      " [ 2171.54  1632.04]\n",
      " [ 3401.8   2699.57]\n",
      " [ 4622.39 20177.67]\n",
      " [ 5035.51  4076.5 ]\n",
      " [14429.91 12592.53]\n",
      " [ 2550.14  1621.34]\n",
      " [ 2166.62  1875.34]\n",
      " [ 7647.76  7196.87]\n",
      " [ 3444.66  3161.45]\n",
      " [13070.63 12029.29]\n",
      " [ 3119.79  2719.28]\n",
      " [ 3449.95 18218.16]\n",
      " [13318.34 12146.97]\n",
      " [ 4101.5   3292.53]\n",
      " [ 9833.66  8688.86]\n",
      " [ 6972.34  6113.23]\n",
      " [ 8571.91  8059.68]\n",
      " [14440.28 13415.04]\n",
      " [23396.09 18246.5 ]\n",
      " [46942.83 47055.53]\n",
      " [13374.74 12222.9 ]\n",
      " [ 6965.97  6067.13]\n",
      " [44306.44 63770.43]\n",
      " [10837.99  9872.7 ]]\n"
     ]
    }
   ],
   "source": [
    "y_pred_svr = regrs.predict(x_transTest)\n",
    "np.set_printoptions(precision = 2)\n",
    "\n",
    "#inverse_transform is used to convert the scaled data back to its original values\n",
    "print(np.concatenate((sc_ytest.inverse_transform(y_pred_svr.reshape(len(y_pred_svr),1)), sc_ytest.inverse_transform(y_transTest.reshape(len(y_pred_svr), 1))),1))"
   ]
  },
  {
   "cell_type": "markdown",
   "metadata": {},
   "source": [
    "Values predicted by the SVR model vs values expected"
   ]
  },
  {
   "cell_type": "code",
   "execution_count": null,
   "metadata": {},
   "outputs": [
    {
     "data": {
      "text/plain": [
       "array([[2979.69]])"
      ]
     },
     "metadata": {},
     "output_type": "display_data"
    }
   ],
   "source": [
    "sc_y.inverse_transform(regrs.predict(sc_x.transform([[22, 0, 24.96, 0, 0, 0]])).reshape(-1,1))"
   ]
  },
  {
   "cell_type": "markdown",
   "metadata": {},
   "source": [
    "Predicting the cost by values inserted by the user"
   ]
  },
  {
   "cell_type": "code",
   "execution_count": null,
   "metadata": {},
   "outputs": [
    {
     "name": "stdout",
     "output_type": "stream",
     "text": [
      "R squared value :  0.8674243092938172\n"
     ]
    }
   ],
   "source": [
    "r2_test = metrics.r2_score(y_transTest, y_pred_svr)\n",
    "print('R squared value : ', r2_test)"
   ]
  },
  {
   "cell_type": "code",
   "execution_count": null,
   "metadata": {},
   "outputs": [
    {
     "data": {
      "image/png": "[encoded data removed]",
      "text/plain": [
       "<Figure size 720x504 with 1 Axes>"
      ]
     },
     "metadata": {},
     "output_type": "display_data"
    }
   ],
   "source": [
    "x_plot = sc_ytest.inverse_transform(y_pred_svr.reshape(len(y_pred_svr),1))\n",
    "x_plot = x_plot.reshape(-1)\n",
    "y_plot = sc_ytest.inverse_transform(y_transTest)\n",
    "y_plot = y_plot.reshape(-1)\n",
    "plt.figure(figsize=(10,7))\n",
    "sns.scatterplot(x = x_plot,y = y_plot);\n",
    "plt.xlabel('Predicted Charges')\n",
    "plt.ylabel('Actual Charges')\n",
    "plt.title('Predicted vs. Actual SVR (Test set)')\n",
    "l = np.linspace(0,y_plot.max(),500);\n",
    "plt.plot(l,l,ls='--',color='red');"
   ]
  },
  {
   "cell_type": "code",
   "execution_count": null,
   "metadata": {},
   "outputs": [],
   "source": []
  }
 ],
 "metadata": {
  "language_info": {
   "name": "python"
  }
 },
 "nbformat": 4,
 "nbformat_minor": 2
}
